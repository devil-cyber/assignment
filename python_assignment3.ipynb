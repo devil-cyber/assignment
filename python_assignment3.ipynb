{
  "nbformat": 4,
  "nbformat_minor": 0,
  "metadata": {
    "colab": {
      "name": "python_assignment3.ipynb",
      "provenance": [],
      "collapsed_sections": [],
      "authorship_tag": "ABX9TyP1tSb/deQ9AHvSvkKe7CY+",
      "include_colab_link": true
    },
    "kernelspec": {
      "name": "python3",
      "display_name": "Python 3"
    }
  },
  "cells": [
    {
      "cell_type": "markdown",
      "metadata": {
        "id": "view-in-github",
        "colab_type": "text"
      },
      "source": [
        "<a href=\"https://colab.research.google.com/github/devil-cyber/assignment/blob/master/python_assignment3.ipynb\" target=\"_parent\"><img src=\"https://colab.research.google.com/assets/colab-badge.svg\" alt=\"Open In Colab\"/></a>"
      ]
    },
    {
      "cell_type": "markdown",
      "metadata": {
        "id": "CDoXFvX1Y40k",
        "colab_type": "text"
      },
      "source": [
        "Q No.1.1 *Solution*"
      ]
    },
    {
      "cell_type": "code",
      "metadata": {
        "id": "ydXRyOZPZBT2",
        "colab_type": "code",
        "colab": {}
      },
      "source": [
        "def myreduce(function,li_type,intial_value=None):\n",
        "  it=iter(li_type)\n",
        "  if(intial_value is None):\n",
        "    intial_value=next(it)\n",
        "  value=intial_value\n",
        "  for i in it:\n",
        "    value=function(value,i)\n",
        "  return value\n"
      ],
      "execution_count": 0,
      "outputs": []
    },
    {
      "cell_type": "code",
      "metadata": {
        "id": "d3rg26stcnFv",
        "colab_type": "code",
        "colab": {}
      },
      "source": [
        "l=[1,2,3,4,5]"
      ],
      "execution_count": 0,
      "outputs": []
    },
    {
      "cell_type": "code",
      "metadata": {
        "id": "AKWqq9OocgvI",
        "colab_type": "code",
        "colab": {
          "base_uri": "https://localhost:8080/",
          "height": 35
        },
        "outputId": "7cff166a-dd4a-429d-f93a-521ddd236536"
      },
      "source": [
        "myreduce(lambda i,j:i+j,l)"
      ],
      "execution_count": 6,
      "outputs": [
        {
          "output_type": "execute_result",
          "data": {
            "text/plain": [
              "15"
            ]
          },
          "metadata": {
            "tags": []
          },
          "execution_count": 6
        }
      ]
    },
    {
      "cell_type": "markdown",
      "metadata": {
        "id": "iq-dbGCNeCAm",
        "colab_type": "text"
      },
      "source": [
        "Q No.1.2 *Solution*\n"
      ]
    },
    {
      "cell_type": "code",
      "metadata": {
        "id": "wyTT0APGeG9m",
        "colab_type": "code",
        "colab": {}
      },
      "source": [
        "def myfilter(function,l_type):\n",
        "  it=iter(l_type)\n",
        "  value=[]\n",
        "  for i in it:\n",
        "    if(function(i)==True):\n",
        "      value.append(i)\n",
        "  return value"
      ],
      "execution_count": 0,
      "outputs": []
    },
    {
      "cell_type": "code",
      "metadata": {
        "id": "d4SlXf2Xe5gz",
        "colab_type": "code",
        "colab": {}
      },
      "source": [
        "l=[1,2,3,4,5,6,10,34,10000,89]"
      ],
      "execution_count": 0,
      "outputs": []
    },
    {
      "cell_type": "code",
      "metadata": {
        "id": "hs-piVH5e8Wa",
        "colab_type": "code",
        "colab": {
          "base_uri": "https://localhost:8080/",
          "height": 35
        },
        "outputId": "4050e350-2c44-4cfe-b17f-a455ff3d9882"
      },
      "source": [
        "myfilter(lambda x:x%2==0,l)"
      ],
      "execution_count": 17,
      "outputs": [
        {
          "output_type": "execute_result",
          "data": {
            "text/plain": [
              "[2, 4, 6, 10, 34, 10000]"
            ]
          },
          "metadata": {
            "tags": []
          },
          "execution_count": 17
        }
      ]
    },
    {
      "cell_type": "markdown",
      "metadata": {
        "id": "laCyWV9Df2wA",
        "colab_type": "text"
      },
      "source": [
        "Q No.2 *Solution*\n"
      ]
    },
    {
      "cell_type": "code",
      "metadata": {
        "id": "oohd7q6mf6iu",
        "colab_type": "code",
        "colab": {
          "base_uri": "https://localhost:8080/",
          "height": 35
        },
        "outputId": "5dfeab89-0f0d-4742-b813-ac89bad3072c"
      },
      "source": [
        "l1=['x','y','z']\n",
        "result1=[i*j for i in l1 for j in range(1,4)]\n",
        "print(result1)"
      ],
      "execution_count": 21,
      "outputs": [
        {
          "output_type": "stream",
          "text": [
            "['x', 'xx', 'xxx', 'y', 'yy', 'yyy', 'z', 'zz', 'zzz']\n"
          ],
          "name": "stdout"
        }
      ]
    },
    {
      "cell_type": "code",
      "metadata": {
        "id": "XFE-j-uligCI",
        "colab_type": "code",
        "colab": {
          "base_uri": "https://localhost:8080/",
          "height": 35
        },
        "outputId": "d8c4a54f-5eff-465e-aebe-26d62842b1b5"
      },
      "source": [
        "l2=['x','y','z']\n",
        "result2=[i*j for i in range(1,5) for j in l2]\n",
        "print(result2)"
      ],
      "execution_count": 23,
      "outputs": [
        {
          "output_type": "stream",
          "text": [
            "['x', 'y', 'z', 'xx', 'yy', 'zz', 'xxx', 'yyy', 'zzz', 'xxxx', 'yyyy', 'zzzz']\n"
          ],
          "name": "stdout"
        }
      ]
    },
    {
      "cell_type": "markdown",
      "metadata": {
        "id": "bG1LpmlcnAdb",
        "colab_type": "text"
      },
      "source": [
        "Two question are in this below cell"
      ]
    },
    {
      "cell_type": "code",
      "metadata": {
        "id": "FTpXaTdMjVs2",
        "colab_type": "code",
        "colab": {
          "base_uri": "https://localhost:8080/",
          "height": 52
        },
        "outputId": "936c7ba0-6241-4591-9d83-7635dc764af1"
      },
      "source": [
        "l3=[2,3,4]\n",
        "l4=[2,3,4,5]\n",
        "result3=[[i+j] for i in l3 for j in range(3)]\n",
        "result4=[[i+j for i in l4]for j in range(0,4) ]\n",
        "print(result3)\n",
        "print(result4)"
      ],
      "execution_count": 28,
      "outputs": [
        {
          "output_type": "stream",
          "text": [
            "[[2], [3], [4], [3], [4], [5], [4], [5], [6]]\n",
            "[[2, 3, 4, 5], [3, 4, 5, 6], [4, 5, 6, 7], [5, 6, 7, 8]]\n"
          ],
          "name": "stdout"
        }
      ]
    },
    {
      "cell_type": "code",
      "metadata": {
        "id": "CIHJOBKqnKXs",
        "colab_type": "code",
        "colab": {
          "base_uri": "https://localhost:8080/",
          "height": 35
        },
        "outputId": "b4ea0d10-a02f-4c69-963c-a1131abb99f9"
      },
      "source": [
        "l5=[1,2,3]\n",
        "result5=[(j,i) for i in l5 for j in l5]\n",
        "print(result5)"
      ],
      "execution_count": 33,
      "outputs": [
        {
          "output_type": "stream",
          "text": [
            "[(1, 1), (2, 1), (3, 1), (1, 2), (2, 2), (3, 2), (1, 3), (2, 3), (3, 3)]\n"
          ],
          "name": "stdout"
        }
      ]
    }
  ]
}