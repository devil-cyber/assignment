{
  "nbformat": 4,
  "nbformat_minor": 0,
  "metadata": {
    "colab": {
      "name": "python_assignment2.ipynb",
      "provenance": [],
      "authorship_tag": "ABX9TyOcT2r5nwttbRCA1PGZQy8C",
      "include_colab_link": true
    },
    "kernelspec": {
      "name": "python3",
      "display_name": "Python 3"
    }
  },
  "cells": [
    {
      "cell_type": "markdown",
      "metadata": {
        "id": "view-in-github",
        "colab_type": "text"
      },
      "source": [
        "<a href=\"https://colab.research.google.com/github/devil-cyber/assignment/blob/master/python_assignment2.ipynb\" target=\"_parent\"><img src=\"https://colab.research.google.com/assets/colab-badge.svg\" alt=\"Open In Colab\"/></a>"
      ]
    },
    {
      "cell_type": "markdown",
      "metadata": {
        "id": "Lw2l4_wiQ4kM",
        "colab_type": "text"
      },
      "source": [
        "Q No.1 *Solution*"
      ]
    },
    {
      "cell_type": "code",
      "metadata": {
        "id": "X9zejkkfRIDI",
        "colab_type": "code",
        "colab": {
          "base_uri": "https://localhost:8080/",
          "height": 208
        },
        "outputId": "8fc06da7-8e93-471f-d3aa-d705d581710d"
      },
      "source": [
        "for i in range(5):\n",
        "  for j in range(i):\n",
        "    print('*',end=\"\")\n",
        "  print(\"\\r\")\n",
        "for i in range(5,-1,-1):\n",
        "  for j in range(i):\n",
        "    print(\"*\",end=\"\")\n",
        "  print(\"\\r\")\n",
        "  \n"
      ],
      "execution_count": 36,
      "outputs": [
        {
          "output_type": "stream",
          "text": [
            "\r\n",
            "*\r\n",
            "**\r\n",
            "***\r\n",
            "****\r\n",
            "*****\r\n",
            "****\r\n",
            "***\r\n",
            "**\r\n",
            "*\r\n",
            "\r\n"
          ],
          "name": "stdout"
        }
      ]
    },
    {
      "cell_type": "markdown",
      "metadata": {
        "id": "SWOE-i47YpWs",
        "colab_type": "text"
      },
      "source": [
        "Q No.2 *Solution*"
      ]
    },
    {
      "cell_type": "code",
      "metadata": {
        "id": "K6OGClcFYs98",
        "colab_type": "code",
        "colab": {
          "base_uri": "https://localhost:8080/",
          "height": 52
        },
        "outputId": "1d8be138-2a4c-41be-c46f-c72e2874fbed"
      },
      "source": [
        "x=input(\"Enter a word: \")\n",
        "print(f\"The reverse word is: {x[::-1]}\")"
      ],
      "execution_count": 40,
      "outputs": [
        {
          "output_type": "stream",
          "text": [
            "Enter a word: ineuron\n",
            "The reverse word is: norueni\n"
          ],
          "name": "stdout"
        }
      ]
    }
  ]
}