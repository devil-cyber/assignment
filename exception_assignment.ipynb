{
  "nbformat": 4,
  "nbformat_minor": 0,
  "metadata": {
    "colab": {
      "name": " exception_assignment.ipynb",
      "provenance": [],
      "collapsed_sections": [],
      "authorship_tag": "ABX9TyNl64wLDxSW7A5tzoylgMIG",
      "include_colab_link": true
    },
    "kernelspec": {
      "name": "python3",
      "display_name": "Python 3"
    }
  },
  "cells": [
    {
      "cell_type": "markdown",
      "metadata": {
        "id": "view-in-github",
        "colab_type": "text"
      },
      "source": [
        "<a href=\"https://colab.research.google.com/github/devil-cyber/assignment/blob/master/exception_assignment.ipynb\" target=\"_parent\"><img src=\"https://colab.research.google.com/assets/colab-badge.svg\" alt=\"Open In Colab\"/></a>"
      ]
    },
    {
      "cell_type": "markdown",
      "metadata": {
        "id": "xgytf99bRuT0",
        "colab_type": "text"
      },
      "source": [
        "Q No. 1"
      ]
    },
    {
      "cell_type": "code",
      "metadata": {
        "id": "3cFURyixR0aX",
        "colab_type": "code",
        "colab": {}
      },
      "source": [
        "def func():\n",
        "  try:\n",
        "    x=5/0\n",
        "  except:\n",
        "    print('Error Dividing By Zero')"
      ],
      "execution_count": 1,
      "outputs": []
    },
    {
      "cell_type": "code",
      "metadata": {
        "id": "0qeGodCfSeec",
        "colab_type": "code",
        "colab": {
          "base_uri": "https://localhost:8080/",
          "height": 35
        },
        "outputId": "d6fa87b8-c3e5-406a-92e2-8027a237bbf3"
      },
      "source": [
        "func()"
      ],
      "execution_count": 2,
      "outputs": [
        {
          "output_type": "stream",
          "text": [
            "Error Dividing By Zero\n"
          ],
          "name": "stdout"
        }
      ]
    },
    {
      "cell_type": "markdown",
      "metadata": {
        "id": "y06cOqZvSjNU",
        "colab_type": "text"
      },
      "source": [
        "Q No. 2"
      ]
    },
    {
      "cell_type": "code",
      "metadata": {
        "id": "xFAScEjKSl42",
        "colab_type": "code",
        "colab": {
          "base_uri": "https://localhost:8080/",
          "height": 156
        },
        "outputId": "456b0be7-57b0-4f90-8434-d3c141f53550"
      },
      "source": [
        "subjects=[\"Americans \",\"Indians \"]\n",
        "verbs=[\"play \",\"watch \"]\n",
        "objects=[\"Baseball \",\"Cricket \"]\n",
        "sentence_list=[(i+j+k) for i in subjects for j in verbs for k in objects]\n",
        "for i in sentence_list:\n",
        "  print(i)\n"
      ],
      "execution_count": 8,
      "outputs": [
        {
          "output_type": "stream",
          "text": [
            "Americans play Baseball \n",
            "Americans play Cricket \n",
            "Americans watch Baseball \n",
            "Americans watch Cricket \n",
            "Indians play Baseball \n",
            "Indians play Cricket \n",
            "Indians watch Baseball \n",
            "Indians watch Cricket \n"
          ],
          "name": "stdout"
        }
      ]
    }
  ]
}