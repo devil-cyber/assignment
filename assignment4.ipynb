{
  "nbformat": 4,
  "nbformat_minor": 0,
  "metadata": {
    "colab": {
      "name": "assignment4.ipynb",
      "provenance": [],
      "authorship_tag": "ABX9TyPkNfb4L2O7n662kM7vNeG1",
      "include_colab_link": true
    },
    "kernelspec": {
      "name": "python3",
      "display_name": "Python 3"
    }
  },
  "cells": [
    {
      "cell_type": "markdown",
      "metadata": {
        "id": "view-in-github",
        "colab_type": "text"
      },
      "source": [
        "<a href=\"https://colab.research.google.com/github/devil-cyber/assignment/blob/master/assignment4.ipynb\" target=\"_parent\"><img src=\"https://colab.research.google.com/assets/colab-badge.svg\" alt=\"Open In Colab\"/></a>"
      ]
    },
    {
      "cell_type": "markdown",
      "metadata": {
        "id": "E1qaClAd4HBZ",
        "colab_type": "text"
      },
      "source": [
        "**Q.No.1.1 solution**"
      ]
    },
    {
      "cell_type": "markdown",
      "metadata": {
        "id": "pk4d7tu9Be56",
        "colab_type": "text"
      },
      "source": [
        "Method:1"
      ]
    },
    {
      "cell_type": "code",
      "metadata": {
        "id": "zG0lwEA04NRS",
        "colab_type": "code",
        "colab": {}
      },
      "source": [
        "import math\n",
        "class Triangle1:\n",
        "  def __init__(self,a,b,c):\n",
        "    self.a=a\n",
        "    self.b=b\n",
        "    self.c=c\n",
        "class Area_1(Triangle1):\n",
        "  def __init__(self,*args):\n",
        "    super(Area_1,self).__init__(*args)\n",
        "  def getarea(self):\n",
        "    s=(self.a+self.b+self.c)/2\n",
        "    return math.sqrt(s*(s-self.a)*(s-self.b)*(s-self.c))\n"
      ],
      "execution_count": 0,
      "outputs": []
    },
    {
      "cell_type": "code",
      "metadata": {
        "id": "6g6Xeutq7SAU",
        "colab_type": "code",
        "colab": {
          "base_uri": "https://localhost:8080/",
          "height": 35
        },
        "outputId": "c434eedb-7d51-4a75-c481-6d931d702757"
      },
      "source": [
        "a=Area_1(6,7,8)\n",
        "a.getarea()"
      ],
      "execution_count": 45,
      "outputs": [
        {
          "output_type": "execute_result",
          "data": {
            "text/plain": [
              "20.33316256758894"
            ]
          },
          "metadata": {
            "tags": []
          },
          "execution_count": 45
        }
      ]
    },
    {
      "cell_type": "markdown",
      "metadata": {
        "id": "o2fxQ1ONBjPL",
        "colab_type": "text"
      },
      "source": [
        "Method:2"
      ]
    },
    {
      "cell_type": "code",
      "metadata": {
        "id": "h-rQginQ9rml",
        "colab_type": "code",
        "colab": {}
      },
      "source": [
        "class Triangle:\n",
        "  def __init__(self):\n",
        "    a=int(input(\"length of first-side: \"))\n",
        "    b=int(input(\"length of second-side: \"))\n",
        "    c=int(input(\"length of third-side: \"))\n",
        "    self.a=a\n",
        "    self.b=b\n",
        "    self.c=c\n",
        "class Area(Triangle):\n",
        "  def __init__(self,*args):\n",
        "    super(Area,self).__init__(*args)\n",
        "  def getArea(self):\n",
        "    s=(self.a+self.b+self.c)/2\n",
        "    return math.sqrt(s*(s-self.a)*(s-self.b)*(s-self.c))\n",
        "  \n",
        "\n"
      ],
      "execution_count": 0,
      "outputs": []
    },
    {
      "cell_type": "code",
      "metadata": {
        "id": "o5SEmLbl-62J",
        "colab_type": "code",
        "colab": {
          "base_uri": "https://localhost:8080/",
          "height": 69
        },
        "outputId": "d92198ad-04df-4c9f-d5d2-26d1664bbc25"
      },
      "source": [
        "a=Area()"
      ],
      "execution_count": 47,
      "outputs": [
        {
          "output_type": "stream",
          "text": [
            "length of first-side: 3\n",
            "length of second-side: 4\n",
            "length of third-side: 5\n"
          ],
          "name": "stdout"
        }
      ]
    },
    {
      "cell_type": "code",
      "metadata": {
        "id": "MIFO8F4yBNHR",
        "colab_type": "code",
        "colab": {
          "base_uri": "https://localhost:8080/",
          "height": 35
        },
        "outputId": "a563e65d-0c23-454b-f1fc-785875b3c0ac"
      },
      "source": [
        "a.getArea()"
      ],
      "execution_count": 48,
      "outputs": [
        {
          "output_type": "execute_result",
          "data": {
            "text/plain": [
              "6.0"
            ]
          },
          "metadata": {
            "tags": []
          },
          "execution_count": 48
        }
      ]
    },
    {
      "cell_type": "markdown",
      "metadata": {
        "id": "0LFyVq42C5ET",
        "colab_type": "text"
      },
      "source": [
        "Q No.1.2 *Solution*"
      ]
    },
    {
      "cell_type": "code",
      "metadata": {
        "id": "4uxGELM-DO0Y",
        "colab_type": "code",
        "colab": {}
      },
      "source": [
        "def filter_long_words(word,n):\n",
        "  l=[]\n",
        "  for i in word:\n",
        "    if(len(i)>n):\n",
        "      l.append(i)\n",
        "  return l\n"
      ],
      "execution_count": 0,
      "outputs": []
    },
    {
      "cell_type": "code",
      "metadata": {
        "id": "h7CAbjFCE7Ft",
        "colab_type": "code",
        "colab": {}
      },
      "source": [
        "word=['manikant','rishikesh','vicky','mani','four']\n",
        "n=6"
      ],
      "execution_count": 0,
      "outputs": []
    },
    {
      "cell_type": "code",
      "metadata": {
        "id": "zHO02ORyJizc",
        "colab_type": "code",
        "colab": {
          "base_uri": "https://localhost:8080/",
          "height": 35
        },
        "outputId": "781297c1-7e45-41c0-f34a-7e7c3047f13b"
      },
      "source": [
        " filter_long_words(word,n)"
      ],
      "execution_count": 93,
      "outputs": [
        {
          "output_type": "execute_result",
          "data": {
            "text/plain": [
              "['manikant', 'rishikesh']"
            ]
          },
          "metadata": {
            "tags": []
          },
          "execution_count": 93
        }
      ]
    },
    {
      "cell_type": "markdown",
      "metadata": {
        "id": "KGW6bdlbMoG9",
        "colab_type": "text"
      },
      "source": [
        "**Q.No.2.1 solution**"
      ]
    },
    {
      "cell_type": "code",
      "metadata": {
        "id": "CBYlbGY2MqjG",
        "colab_type": "code",
        "colab": {}
      },
      "source": [
        "def Counter(wordList):\n",
        "  c=[]\n",
        "  for i in wordList:\n",
        "    c.append(len(i))\n",
        "  return c"
      ],
      "execution_count": 0,
      "outputs": []
    },
    {
      "cell_type": "code",
      "metadata": {
        "id": "A4onwRm8NBJd",
        "colab_type": "code",
        "colab": {}
      },
      "source": [
        "wordList=['as','bdgdg','sde','manikant','kumar']"
      ],
      "execution_count": 0,
      "outputs": []
    },
    {
      "cell_type": "code",
      "metadata": {
        "id": "qHTTtmx0NMOr",
        "colab_type": "code",
        "colab": {
          "base_uri": "https://localhost:8080/",
          "height": 35
        },
        "outputId": "b213190a-39ec-48c4-a967-7ded0cfafa44"
      },
      "source": [
        "Counter(wordList)"
      ],
      "execution_count": 96,
      "outputs": [
        {
          "output_type": "execute_result",
          "data": {
            "text/plain": [
              "[2, 5, 3, 8, 5]"
            ]
          },
          "metadata": {
            "tags": []
          },
          "execution_count": 96
        }
      ]
    },
    {
      "cell_type": "code",
      "metadata": {
        "id": "xrUucp0QQSpX",
        "colab_type": "code",
        "colab": {}
      },
      "source": [
        ""
      ],
      "execution_count": 0,
      "outputs": []
    },
    {
      "cell_type": "code",
      "metadata": {
        "id": "DgddCPT_QS0q",
        "colab_type": "code",
        "colab": {}
      },
      "source": [
        ""
      ],
      "execution_count": 0,
      "outputs": []
    },
    {
      "cell_type": "markdown",
      "metadata": {
        "id": "tdTt93iMNhme",
        "colab_type": "text"
      },
      "source": [
        "**Q.No.2.2 solution**"
      ]
    },
    {
      "cell_type": "code",
      "metadata": {
        "id": "LFals97FNlpM",
        "colab_type": "code",
        "colab": {}
      },
      "source": [
        "def vowel(s):# s is a chracter here\n",
        "  if s in ['A','E','I','O','U','a','e','i','o','u']: #to handel the uppercase and lowercase chracter\n",
        "    return True\n",
        "  else:\n",
        "    return False\n",
        "   \n"
      ],
      "execution_count": 0,
      "outputs": []
    },
    {
      "cell_type": "code",
      "metadata": {
        "id": "X8f1yi2fOknr",
        "colab_type": "code",
        "colab": {
          "base_uri": "https://localhost:8080/",
          "height": 52
        },
        "outputId": "6025c4bd-82ef-4c2d-9724-a87b62d6bfc8"
      },
      "source": [
        "#Enter a chracter of your choice\n",
        "ch=input('Enter the chracter:')\n",
        "vowel(ch)"
      ],
      "execution_count": 111,
      "outputs": [
        {
          "output_type": "stream",
          "text": [
            "Enter the chracter:we\n"
          ],
          "name": "stdout"
        },
        {
          "output_type": "execute_result",
          "data": {
            "text/plain": [
              "False"
            ]
          },
          "metadata": {
            "tags": []
          },
          "execution_count": 111
        }
      ]
    }
  ]
}